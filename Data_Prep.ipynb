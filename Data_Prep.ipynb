{
 "cells": [
  {
   "cell_type": "markdown",
   "id": "c62a6e05",
   "metadata": {
    "heading_collapsed": true
   },
   "source": [
    "# Pre-processing of data\n",
    "## Sources\n",
    "https://storage.googleapis.com/earthenginepartners-hansen/GFC-2020-v1.8/Hansen_GFC-2020-v1.8_lossyear_50N_080W.tif"
   ]
  },
  {
   "cell_type": "code",
   "execution_count": 1,
   "id": "5bc90cd9",
   "metadata": {
    "ExecuteTime": {
     "end_time": "2021-12-22T21:29:09.237869Z",
     "start_time": "2021-12-22T21:29:06.174719Z"
    },
    "hidden": true
   },
   "outputs": [
    {
     "data": {
      "text/plain": [
       "'C:\\\\Users\\\\RoseDeterman\\\\2021_Fall\\\\EE508_data\\\\Final_2'"
      ]
     },
     "execution_count": 1,
     "metadata": {},
     "output_type": "execute_result"
    }
   ],
   "source": [
    "import numpy as np\n",
    "import pandas as pd\n",
    "import geopandas as gpd\n",
    "import matplotlib.pyplot as plt\n",
    "from osgeo import gdal\n",
    "import os\n",
    "\n",
    "from rasterstats import zonal_stats\n",
    "\n",
    "from rasterio import open as r_open\n",
    "from osgeo import gdal\n",
    "import rasterio\n",
    "from affine import Affine\n",
    "from subprocess import Popen\n",
    "\n",
    "import rasterio\n",
    "from rasterio.plot import reshape_as_image\n",
    "import rasterio.mask\n",
    "from rasterio.features import rasterize\n",
    "from shapely.geometry import mapping, Point, Polygon\n",
    "from shapely.ops import cascaded_union\n",
    "\n",
    "os.getcwd()"
   ]
  },
  {
   "cell_type": "code",
   "execution_count": 2,
   "id": "d9cfc90c",
   "metadata": {
    "ExecuteTime": {
     "end_time": "2021-12-22T21:29:09.530983Z",
     "start_time": "2021-12-22T21:29:09.242177Z"
    },
    "hidden": true
   },
   "outputs": [],
   "source": [
    "import winsound\n",
    "duration = 250\n",
    "freq = 350\n",
    "winsound.Beep(freq, duration)"
   ]
  },
  {
   "cell_type": "markdown",
   "id": "5753c515",
   "metadata": {
    "ExecuteTime": {
     "end_time": "2021-12-08T22:51:01.659791Z",
     "start_time": "2021-12-08T22:51:01.643106Z"
    },
    "heading_collapsed": true
   },
   "source": [
    "# Parcels"
   ]
  },
  {
   "cell_type": "code",
   "execution_count": 3,
   "id": "0e25bc2a",
   "metadata": {
    "ExecuteTime": {
     "end_time": "2021-12-22T21:29:11.430071Z",
     "start_time": "2021-12-22T21:29:09.541221Z"
    },
    "hidden": true
   },
   "outputs": [],
   "source": [
    "#import\n",
    "parcels = gpd.read_file(\"data/L3_SHP_M101_FRANKLIN\\L3_SHP_M101_Franklin/M101TaxPar_CY21_FY22.shp\")\n",
    "\n",
    "#drop rows with an unknown or no parcel id\n",
    "lgc = (parcels[\"MAP_PAR_ID\"] == \"UNKNOWN\") | (parcels[\"MAP_PAR_ID\"].isnull())\n",
    "parcels = parcels[~lgc]"
   ]
  },
  {
   "cell_type": "markdown",
   "id": "3b41132d",
   "metadata": {
    "ExecuteTime": {
     "end_time": "2021-12-08T22:53:09.501713Z",
     "start_time": "2021-12-08T22:53:09.481120Z"
    },
    "hidden": true
   },
   "source": [
    "## Join with assessor's data"
   ]
  },
  {
   "cell_type": "code",
   "execution_count": 4,
   "id": "5b47fee1",
   "metadata": {
    "ExecuteTime": {
     "end_time": "2021-12-22T21:29:12.022367Z",
     "start_time": "2021-12-22T21:29:11.436120Z"
    },
    "hidden": true
   },
   "outputs": [],
   "source": [
    "#import \n",
    "asr = pd.read_csv(\"data/assessor/CDM_GIS_output_edit.csv\")\n",
    "\n",
    "#rename id column\n",
    "asr.rename(columns = {'Parcel ID Number':'MAP_PAR_ID'}, inplace = True)\n",
    "#trim white space from id\n",
    "asr[\"MAP_PAR_ID\"] = asr[\"MAP_PAR_ID\"].str.strip()\n",
    "\n",
    "#join parcels with the assesed value data\n",
    "parcels = parcels.set_index('MAP_PAR_ID').join(asr.set_index('MAP_PAR_ID'))\n",
    "\n",
    "#keep only columns related to assessed value\n",
    "parcels = parcels[[ \"Total Assessed Value\",\"Primary Land Use Code (LUC)\", \"geometry\"]]\n",
    "parcels.columns = [ 't_as_val','LUC', 'geometry']"
   ]
  },
  {
   "cell_type": "markdown",
   "id": "eaf5a91c",
   "metadata": {
    "hidden": true
   },
   "source": [
    "## Calculate cost per area"
   ]
  },
  {
   "cell_type": "code",
   "execution_count": 5,
   "id": "3d8a1419",
   "metadata": {
    "ExecuteTime": {
     "end_time": "2021-12-22T21:29:12.230578Z",
     "start_time": "2021-12-22T21:29:12.027763Z"
    },
    "hidden": true
   },
   "outputs": [],
   "source": [
    "#Calculate Parcel area\n",
    "#convert to equal area projection and calculate area\n",
    "parcels['area'] = parcels.to_crs(\"EPSG:2163\").geometry.area\n",
    "\n",
    "#Calculate cost per area\n",
    "parcels['val_per_ar'] = parcels['t_as_val']/parcels['area']"
   ]
  },
  {
   "cell_type": "markdown",
   "id": "a0fc5bae",
   "metadata": {
    "heading_collapsed": true
   },
   "source": [
    "# Open Space\n"
   ]
  },
  {
   "cell_type": "code",
   "execution_count": 6,
   "id": "60b23be9",
   "metadata": {
    "ExecuteTime": {
     "end_time": "2021-12-22T21:29:12.251342Z",
     "start_time": "2021-12-22T21:29:12.232850Z"
    },
    "hidden": true
   },
   "outputs": [],
   "source": [
    "parcels.reset_index(inplace=True)"
   ]
  },
  {
   "cell_type": "code",
   "execution_count": 7,
   "id": "35c5b4c2",
   "metadata": {
    "ExecuteTime": {
     "end_time": "2021-12-22T21:29:29.677823Z",
     "start_time": "2021-12-22T21:29:12.254979Z"
    },
    "hidden": true
   },
   "outputs": [],
   "source": [
    "open_poly = gpd.read_file(\"data/openspace/OPENSPACE_POLY.shp\")\n",
    "open_poly = open_poly[open_poly[\"TOWN_ID\"] == 101]\n",
    "open_poly = open_poly[[\"POLY_ID\", \"SITE_NAME\", \"FEE_OWNER\", \"PRIM_PURP\", \"PUB_ACCESS\",\"LEV_PROT\", \"geometry\"]]\n",
    "\n",
    "winsound.Beep(freq, duration)"
   ]
  },
  {
   "cell_type": "code",
   "execution_count": 8,
   "id": "dbbe9d1b",
   "metadata": {
    "ExecuteTime": {
     "end_time": "2021-12-22T21:29:30.254715Z",
     "start_time": "2021-12-22T21:29:29.695119Z"
    },
    "hidden": true
   },
   "outputs": [],
   "source": [
    "inters = gpd.overlay(parcels,open_poly, how='intersection', make_valid=True, keep_geom_type = True)"
   ]
  },
  {
   "cell_type": "code",
   "execution_count": 9,
   "id": "f93d27a4",
   "metadata": {
    "ExecuteTime": {
     "end_time": "2021-12-22T21:29:30.307525Z",
     "start_time": "2021-12-22T21:29:30.259150Z"
    },
    "hidden": true
   },
   "outputs": [],
   "source": [
    "parcels = parcels.merge(inters,\n",
    "               left_on='MAP_PAR_ID', right_on='MAP_PAR_ID', how='left')\n",
    "parcels = parcels.set_geometry(\"geometry_x\")"
   ]
  },
  {
   "cell_type": "markdown",
   "id": "7bb58141",
   "metadata": {
    "heading_collapsed": true
   },
   "source": [
    "# Forest Change"
   ]
  },
  {
   "cell_type": "code",
   "execution_count": 10,
   "id": "ffb005a8",
   "metadata": {
    "ExecuteTime": {
     "end_time": "2021-12-22T21:29:30.726023Z",
     "start_time": "2021-12-22T21:29:30.319885Z"
    },
    "hidden": true
   },
   "outputs": [],
   "source": [
    "#Clip to extent of town borders\n",
    "\n",
    "ds = gdal.Open('data/forest_change/Hansen_GFC-2020-v1.8_gain_50N_080W.tif')\n",
    "ds = gdal.Translate('data/forest_change/gain_clip.tif', ds, projWin = [-71.45590532518631,\n",
    "                                                                       42.1395760939559,\n",
    "                                                                       -71.3591633138789,\n",
    "                                                                       42.034819575711865])\n",
    "ds = None\n",
    "\n",
    "ds = gdal.Open('data/forest_change/Hansen_GFC-2020-v1.8_lossyear_50N_080W.tif')\n",
    "ds = gdal.Translate('data/forest_change/loss_clip.tif', ds, projWin = [-71.45590532518631,42.1395760939559,\n",
    "                                                                     -71.3591633138789,42.034819575711865])\n",
    "ds = None "
   ]
  },
  {
   "cell_type": "code",
   "execution_count": 11,
   "id": "1653a7b8",
   "metadata": {
    "ExecuteTime": {
     "end_time": "2021-12-22T21:29:30.803029Z",
     "start_time": "2021-12-22T21:29:30.731539Z"
    },
    "hidden": true
   },
   "outputs": [],
   "source": [
    "step1 = gdal.Open('data/forest_change/loss_clip.tif', gdal.GA_ReadOnly)\n",
    "\n",
    "GT_input = step1.GetGeoTransform()\n",
    "afn = Affine.from_gdal(*GT_input)\n",
    "\n",
    "step2 = step1.GetRasterBand(1)\n",
    "img_as_array = step2.ReadAsArray()\n",
    "size1,size2=img_as_array.shape\n",
    "\n",
    "output = np.where(img_as_array != 0, 1, 0)\n",
    "\n",
    "\n",
    "dst_crs='EPSG:4326'\n",
    "\n",
    "output = np.float32(output)\n",
    "with rasterio.open(\n",
    "    'data/forest_change/loss_clip_recode.tif',\n",
    "   'w',\n",
    "    driver='GTiff',\n",
    "    height=output.shape[0],\n",
    "    width=output.shape[1],\n",
    "    count=1,\n",
    "    dtype=np.float32,\n",
    "    crs=dst_crs,\n",
    "    transform=afn,\n",
    ") as dest_file:\n",
    "    dest_file.write(output, 1)\n",
    "dest_file.close()\n"
   ]
  },
  {
   "cell_type": "code",
   "execution_count": 12,
   "id": "8ba66fa2",
   "metadata": {
    "ExecuteTime": {
     "end_time": "2021-12-22T21:29:38.588605Z",
     "start_time": "2021-12-22T21:29:30.807188Z"
    },
    "hidden": true
   },
   "outputs": [
    {
     "ename": "OverflowError",
     "evalue": "cannot convert float infinity to integer",
     "output_type": "error",
     "traceback": [
      "\u001b[1;31m---------------------------------------------------------------------------\u001b[0m",
      "\u001b[1;31mOverflowError\u001b[0m                             Traceback (most recent call last)",
      "\u001b[1;32mC:\\Users\\ROSEDE~1\\AppData\\Local\\Temp/ipykernel_14792/139111082.py\u001b[0m in \u001b[0;36m<module>\u001b[1;34m\u001b[0m\n\u001b[0;32m      1\u001b[0m \u001b[0mparcels\u001b[0m \u001b[1;33m=\u001b[0m \u001b[0mparcels\u001b[0m\u001b[1;33m.\u001b[0m\u001b[0mto_crs\u001b[0m\u001b[1;33m(\u001b[0m\u001b[1;34m\"EPSG:4326\"\u001b[0m\u001b[1;33m)\u001b[0m\u001b[1;33m\u001b[0m\u001b[1;33m\u001b[0m\u001b[0m\n\u001b[1;32m----> 2\u001b[1;33m x= zonal_stats(parcels,\n\u001b[0m\u001b[0;32m      3\u001b[0m             \u001b[1;34m\"data/forest_change/loss_clip_recode.tif\"\u001b[0m\u001b[1;33m,\u001b[0m\u001b[1;33m\u001b[0m\u001b[1;33m\u001b[0m\u001b[0m\n\u001b[0;32m      4\u001b[0m             stats=\"mean\", all_touched=True)\n\u001b[0;32m      5\u001b[0m \u001b[0mx\u001b[0m \u001b[1;33m=\u001b[0m \u001b[0mpd\u001b[0m\u001b[1;33m.\u001b[0m\u001b[0mDataFrame\u001b[0m\u001b[1;33m(\u001b[0m\u001b[0mx\u001b[0m\u001b[1;33m,\u001b[0m \u001b[0mindex\u001b[0m\u001b[1;33m=\u001b[0m\u001b[0mparcels\u001b[0m\u001b[1;33m.\u001b[0m\u001b[0mindex\u001b[0m\u001b[1;33m)\u001b[0m\u001b[1;33m\u001b[0m\u001b[1;33m\u001b[0m\u001b[0m\n",
      "\u001b[1;32m~\\anaconda3\\envs\\gis3\\lib\\site-packages\\rasterstats\\main.py\u001b[0m in \u001b[0;36mzonal_stats\u001b[1;34m(*args, **kwargs)\u001b[0m\n\u001b[0;32m     29\u001b[0m     \u001b[0mThe\u001b[0m \u001b[0monly\u001b[0m \u001b[0mdifference\u001b[0m \u001b[1;32mis\u001b[0m \u001b[0mthat\u001b[0m\u001b[0;31m \u001b[0m\u001b[0;31m`\u001b[0m\u001b[0;31m`\u001b[0m\u001b[0mzonal_stats\u001b[0m\u001b[0;31m`\u001b[0m\u001b[0;31m`\u001b[0m \u001b[0mwill\u001b[0m\u001b[1;33m\u001b[0m\u001b[1;33m\u001b[0m\u001b[0m\n\u001b[0;32m     30\u001b[0m     return a list rather than a generator.\"\"\"\n\u001b[1;32m---> 31\u001b[1;33m     \u001b[1;32mreturn\u001b[0m \u001b[0mlist\u001b[0m\u001b[1;33m(\u001b[0m\u001b[0mgen_zonal_stats\u001b[0m\u001b[1;33m(\u001b[0m\u001b[1;33m*\u001b[0m\u001b[0margs\u001b[0m\u001b[1;33m,\u001b[0m \u001b[1;33m**\u001b[0m\u001b[0mkwargs\u001b[0m\u001b[1;33m)\u001b[0m\u001b[1;33m)\u001b[0m\u001b[1;33m\u001b[0m\u001b[1;33m\u001b[0m\u001b[0m\n\u001b[0m\u001b[0;32m     32\u001b[0m \u001b[1;33m\u001b[0m\u001b[0m\n\u001b[0;32m     33\u001b[0m \u001b[1;33m\u001b[0m\u001b[0m\n",
      "\u001b[1;32m~\\anaconda3\\envs\\gis3\\lib\\site-packages\\rasterstats\\main.py\u001b[0m in \u001b[0;36mgen_zonal_stats\u001b[1;34m(vectors, raster, layer, band, nodata, affine, stats, all_touched, categorical, category_map, add_stats, zone_func, raster_out, prefix, geojson_out, boundless, **kwargs)\u001b[0m\n\u001b[0;32m    158\u001b[0m             \u001b[0mgeom_bounds\u001b[0m \u001b[1;33m=\u001b[0m \u001b[0mtuple\u001b[0m\u001b[1;33m(\u001b[0m\u001b[0mgeom\u001b[0m\u001b[1;33m.\u001b[0m\u001b[0mbounds\u001b[0m\u001b[1;33m)\u001b[0m\u001b[1;33m\u001b[0m\u001b[1;33m\u001b[0m\u001b[0m\n\u001b[0;32m    159\u001b[0m \u001b[1;33m\u001b[0m\u001b[0m\n\u001b[1;32m--> 160\u001b[1;33m             \u001b[0mfsrc\u001b[0m \u001b[1;33m=\u001b[0m \u001b[0mrast\u001b[0m\u001b[1;33m.\u001b[0m\u001b[0mread\u001b[0m\u001b[1;33m(\u001b[0m\u001b[0mbounds\u001b[0m\u001b[1;33m=\u001b[0m\u001b[0mgeom_bounds\u001b[0m\u001b[1;33m,\u001b[0m \u001b[0mboundless\u001b[0m\u001b[1;33m=\u001b[0m\u001b[0mboundless\u001b[0m\u001b[1;33m)\u001b[0m\u001b[1;33m\u001b[0m\u001b[1;33m\u001b[0m\u001b[0m\n\u001b[0m\u001b[0;32m    161\u001b[0m \u001b[1;33m\u001b[0m\u001b[0m\n\u001b[0;32m    162\u001b[0m             \u001b[1;31m# rasterized geometry\u001b[0m\u001b[1;33m\u001b[0m\u001b[1;33m\u001b[0m\u001b[0m\n",
      "\u001b[1;32m~\\anaconda3\\envs\\gis3\\lib\\site-packages\\rasterstats\\io.py\u001b[0m in \u001b[0;36mread\u001b[1;34m(self, bounds, window, masked, boundless)\u001b[0m\n\u001b[0;32m    295\u001b[0m \u001b[1;33m\u001b[0m\u001b[0m\n\u001b[0;32m    296\u001b[0m         \u001b[1;32mif\u001b[0m \u001b[0mbounds\u001b[0m\u001b[1;33m:\u001b[0m\u001b[1;33m\u001b[0m\u001b[1;33m\u001b[0m\u001b[0m\n\u001b[1;32m--> 297\u001b[1;33m             \u001b[0mwin\u001b[0m \u001b[1;33m=\u001b[0m \u001b[0mbounds_window\u001b[0m\u001b[1;33m(\u001b[0m\u001b[0mbounds\u001b[0m\u001b[1;33m,\u001b[0m \u001b[0mself\u001b[0m\u001b[1;33m.\u001b[0m\u001b[0maffine\u001b[0m\u001b[1;33m)\u001b[0m\u001b[1;33m\u001b[0m\u001b[1;33m\u001b[0m\u001b[0m\n\u001b[0m\u001b[0;32m    298\u001b[0m         \u001b[1;32melif\u001b[0m \u001b[0mwindow\u001b[0m\u001b[1;33m:\u001b[0m\u001b[1;33m\u001b[0m\u001b[1;33m\u001b[0m\u001b[0m\n\u001b[0;32m    299\u001b[0m             \u001b[0mwin\u001b[0m \u001b[1;33m=\u001b[0m \u001b[0mwindow\u001b[0m\u001b[1;33m\u001b[0m\u001b[1;33m\u001b[0m\u001b[0m\n",
      "\u001b[1;32m~\\anaconda3\\envs\\gis3\\lib\\site-packages\\rasterstats\\io.py\u001b[0m in \u001b[0;36mbounds_window\u001b[1;34m(bounds, affine)\u001b[0m\n\u001b[0;32m    147\u001b[0m     \"\"\"\n\u001b[0;32m    148\u001b[0m     \u001b[0mw\u001b[0m\u001b[1;33m,\u001b[0m \u001b[0ms\u001b[0m\u001b[1;33m,\u001b[0m \u001b[0me\u001b[0m\u001b[1;33m,\u001b[0m \u001b[0mn\u001b[0m \u001b[1;33m=\u001b[0m \u001b[0mbounds\u001b[0m\u001b[1;33m\u001b[0m\u001b[1;33m\u001b[0m\u001b[0m\n\u001b[1;32m--> 149\u001b[1;33m     \u001b[0mrow_start\u001b[0m\u001b[1;33m,\u001b[0m \u001b[0mcol_start\u001b[0m \u001b[1;33m=\u001b[0m \u001b[0mrowcol\u001b[0m\u001b[1;33m(\u001b[0m\u001b[0mw\u001b[0m\u001b[1;33m,\u001b[0m \u001b[0mn\u001b[0m\u001b[1;33m,\u001b[0m \u001b[0maffine\u001b[0m\u001b[1;33m)\u001b[0m\u001b[1;33m\u001b[0m\u001b[1;33m\u001b[0m\u001b[0m\n\u001b[0m\u001b[0;32m    150\u001b[0m     \u001b[0mrow_stop\u001b[0m\u001b[1;33m,\u001b[0m \u001b[0mcol_stop\u001b[0m \u001b[1;33m=\u001b[0m \u001b[0mrowcol\u001b[0m\u001b[1;33m(\u001b[0m\u001b[0me\u001b[0m\u001b[1;33m,\u001b[0m \u001b[0ms\u001b[0m\u001b[1;33m,\u001b[0m \u001b[0maffine\u001b[0m\u001b[1;33m,\u001b[0m \u001b[0mop\u001b[0m\u001b[1;33m=\u001b[0m\u001b[0mmath\u001b[0m\u001b[1;33m.\u001b[0m\u001b[0mceil\u001b[0m\u001b[1;33m)\u001b[0m\u001b[1;33m\u001b[0m\u001b[1;33m\u001b[0m\u001b[0m\n\u001b[0;32m    151\u001b[0m     \u001b[1;32mreturn\u001b[0m \u001b[1;33m(\u001b[0m\u001b[0mrow_start\u001b[0m\u001b[1;33m,\u001b[0m \u001b[0mrow_stop\u001b[0m\u001b[1;33m)\u001b[0m\u001b[1;33m,\u001b[0m \u001b[1;33m(\u001b[0m\u001b[0mcol_start\u001b[0m\u001b[1;33m,\u001b[0m \u001b[0mcol_stop\u001b[0m\u001b[1;33m)\u001b[0m\u001b[1;33m\u001b[0m\u001b[1;33m\u001b[0m\u001b[0m\n",
      "\u001b[1;32m~\\anaconda3\\envs\\gis3\\lib\\site-packages\\rasterstats\\io.py\u001b[0m in \u001b[0;36mrowcol\u001b[1;34m(x, y, affine, op)\u001b[0m\n\u001b[0;32m    138\u001b[0m     \"\"\" Get row/col for a x/y\n\u001b[0;32m    139\u001b[0m     \"\"\"\n\u001b[1;32m--> 140\u001b[1;33m     \u001b[0mr\u001b[0m \u001b[1;33m=\u001b[0m \u001b[0mint\u001b[0m\u001b[1;33m(\u001b[0m\u001b[0mop\u001b[0m\u001b[1;33m(\u001b[0m\u001b[1;33m(\u001b[0m\u001b[0my\u001b[0m \u001b[1;33m-\u001b[0m \u001b[0maffine\u001b[0m\u001b[1;33m.\u001b[0m\u001b[0mf\u001b[0m\u001b[1;33m)\u001b[0m \u001b[1;33m/\u001b[0m \u001b[0maffine\u001b[0m\u001b[1;33m.\u001b[0m\u001b[0me\u001b[0m\u001b[1;33m)\u001b[0m\u001b[1;33m)\u001b[0m\u001b[1;33m\u001b[0m\u001b[1;33m\u001b[0m\u001b[0m\n\u001b[0m\u001b[0;32m    141\u001b[0m     \u001b[0mc\u001b[0m \u001b[1;33m=\u001b[0m \u001b[0mint\u001b[0m\u001b[1;33m(\u001b[0m\u001b[0mop\u001b[0m\u001b[1;33m(\u001b[0m\u001b[1;33m(\u001b[0m\u001b[0mx\u001b[0m \u001b[1;33m-\u001b[0m \u001b[0maffine\u001b[0m\u001b[1;33m.\u001b[0m\u001b[0mc\u001b[0m\u001b[1;33m)\u001b[0m \u001b[1;33m/\u001b[0m \u001b[0maffine\u001b[0m\u001b[1;33m.\u001b[0m\u001b[0ma\u001b[0m\u001b[1;33m)\u001b[0m\u001b[1;33m)\u001b[0m\u001b[1;33m\u001b[0m\u001b[1;33m\u001b[0m\u001b[0m\n\u001b[0;32m    142\u001b[0m     \u001b[1;32mreturn\u001b[0m \u001b[0mr\u001b[0m\u001b[1;33m,\u001b[0m \u001b[0mc\u001b[0m\u001b[1;33m\u001b[0m\u001b[1;33m\u001b[0m\u001b[0m\n",
      "\u001b[1;31mOverflowError\u001b[0m: cannot convert float infinity to integer"
     ]
    }
   ],
   "source": [
    "parcels = parcels.to_crs(\"EPSG:4326\")\n",
    "x= zonal_stats(parcels,\n",
    "            \"data/forest_change/loss_clip_recode.tif\",\n",
    "            stats=\"mean\", all_touched=True)\n",
    "x = pd.DataFrame(x, index=parcels.index)\n",
    "x.columns = x.columns.map(lambda x: str(x) + '_loss')\n",
    "parcels = parcels.join(x)\n",
    "\n",
    "x= zonal_stats(parcels,\n",
    "            \"data/forest_change/gain_clip.tif\",\n",
    "            stats=\"mean\", all_touched=True)\n",
    "x = pd.DataFrame(x, index=parcels.index)\n",
    "x.columns = x.columns.map(lambda x: str(x) + '_gain')\n",
    "parcels = parcels.join(pd.DataFrame(x, index=parcels.index))\n",
    "\n",
    "winsound.Beep(freq, duration)"
   ]
  },
  {
   "cell_type": "markdown",
   "id": "ff64e102",
   "metadata": {
    "heading_collapsed": true
   },
   "source": [
    "# Priority Habitat\n",
    "https://lpsmlgeo.github.io/2019-09-22-binary_mask/"
   ]
  },
  {
   "cell_type": "code",
   "execution_count": null,
   "id": "1ba65364",
   "metadata": {
    "ExecuteTime": {
     "end_time": "2021-12-22T21:29:38.592310Z",
     "start_time": "2021-12-22T21:29:38.592310Z"
    },
    "hidden": true
   },
   "outputs": [],
   "source": [
    "raster_path = \"data/forest_change/gain_clip.tif\"\n",
    "with rasterio.open(raster_path, \"r\") as src:\n",
    "    raster_img = src.read()\n",
    "    raster_meta = src.meta"
   ]
  },
  {
   "cell_type": "code",
   "execution_count": null,
   "id": "4b5353e7",
   "metadata": {
    "ExecuteTime": {
     "end_time": "2021-12-22T21:29:38.595469Z",
     "start_time": "2021-12-22T21:29:38.595469Z"
    },
    "hidden": true
   },
   "outputs": [],
   "source": [
    "shape_path = \"data/prihab/PRIHAB_POLY.shp\"\n",
    "train_df = gpd.read_file(shape_path)"
   ]
  },
  {
   "cell_type": "code",
   "execution_count": null,
   "id": "5b698546",
   "metadata": {
    "ExecuteTime": {
     "end_time": "2021-12-22T21:29:38.599194Z",
     "start_time": "2021-12-22T21:29:38.599194Z"
    },
    "hidden": true
   },
   "outputs": [],
   "source": [
    "train_df= train_df.to_crs(\"EPSG:4326\")"
   ]
  },
  {
   "cell_type": "code",
   "execution_count": null,
   "id": "c9956a30",
   "metadata": {
    "ExecuteTime": {
     "end_time": "2021-12-22T21:29:38.602036Z",
     "start_time": "2021-12-22T21:29:38.602036Z"
    },
    "hidden": true
   },
   "outputs": [],
   "source": [
    "print(\"CRS Raster: {}, CRS Vector {}\".format(train_df.crs, src.crs))"
   ]
  },
  {
   "cell_type": "code",
   "execution_count": null,
   "id": "38805386",
   "metadata": {
    "ExecuteTime": {
     "end_time": "2021-12-22T21:29:38.605263Z",
     "start_time": "2021-12-22T21:29:38.605263Z"
    },
    "hidden": true
   },
   "outputs": [],
   "source": [
    "def poly_from_utm(polygon, transform):\n",
    "    poly_pts = []\n",
    "    \n",
    "    poly = cascaded_union(polygon)\n",
    "    for i in np.array(poly.exterior.coords):\n",
    "        \n",
    "        # Convert polygons to the image CRS\n",
    "        poly_pts.append(~transform * tuple(i))\n",
    "        \n",
    "    # Generate a polygon object\n",
    "    new_poly = Polygon(poly_pts)\n",
    "    return new_poly\n",
    "\n",
    "# Generate Binary maks\n",
    "\n",
    "poly_shp = []\n",
    "im_size = (src.meta['height'], src.meta['width'])\n",
    "for num, row in train_df.iterrows():\n",
    "    if row['geometry'].geom_type == 'Polygon':\n",
    "        poly = poly_from_utm(row['geometry'], src.meta['transform'])\n",
    "        poly_shp.append(poly)\n",
    "    else:\n",
    "        for p in row['geometry']:\n",
    "            poly = poly_from_utm(p, src.meta['transform'])\n",
    "            poly_shp.append(poly)\n",
    "\n",
    "mask = rasterize(shapes=poly_shp,\n",
    "                 out_shape=im_size)\n",
    "\n",
    "winsound.Beep(freq, duration)"
   ]
  },
  {
   "cell_type": "code",
   "execution_count": null,
   "id": "ba0161a2",
   "metadata": {
    "ExecuteTime": {
     "end_time": "2021-12-22T21:29:38.609017Z",
     "start_time": "2021-12-22T21:29:38.609017Z"
    },
    "hidden": true
   },
   "outputs": [],
   "source": [
    "#mask = mask.astype(\"uint8\")\n",
    "save_path = \"data/prihab/prihab.tif\"\n",
    "bin_mask_meta = src.meta.copy()\n",
    "bin_mask_meta.update({'count': 1})\n",
    "with rasterio.open(save_path, 'w', **bin_mask_meta) as dst:\n",
    "    dst.write(mask, 1)"
   ]
  },
  {
   "cell_type": "code",
   "execution_count": null,
   "id": "3a2f38b5",
   "metadata": {
    "ExecuteTime": {
     "end_time": "2021-12-22T21:29:38.612016Z",
     "start_time": "2021-12-22T21:29:38.612016Z"
    },
    "hidden": true
   },
   "outputs": [],
   "source": [
    "x= zonal_stats(parcels,\n",
    "            \"data/prihab/prihab.tif\",\n",
    "            stats=\"mean\", all_touched=True)\n",
    "x = pd.DataFrame(x, index=parcels.index)\n",
    "x.columns = x.columns.map(lambda x: str(x) + '_prihab')\n",
    "parcels = parcels.join(x)\n",
    "\n",
    "winsound.Beep(freq, duration)"
   ]
  },
  {
   "cell_type": "code",
   "execution_count": null,
   "id": "d1ee2abb",
   "metadata": {
    "ExecuteTime": {
     "end_time": "2021-12-22T21:29:38.615015Z",
     "start_time": "2021-12-22T21:29:38.615015Z"
    },
    "hidden": true
   },
   "outputs": [],
   "source": [
    "parcels"
   ]
  },
  {
   "cell_type": "markdown",
   "id": "28c218e3",
   "metadata": {
    "heading_collapsed": true
   },
   "source": [
    "# Land Cover"
   ]
  },
  {
   "cell_type": "markdown",
   "id": "703cdbe8",
   "metadata": {
    "hidden": true
   },
   "source": [
    "## Define function that recodes rasters to 0/1 based on landcover type of interest\n",
    "\n",
    "**Developed**  \n",
    "2 Impervious\n",
    "5 Developed open space  \n",
    "\n",
    "**Wetland**  \n",
    "13 \tPalustrine Forested Wetland (C-CAP)  \n",
    "14 \tPalustrine Scrub/Shrub Wetland (C-CAP)  \n",
    "15 \tPalustrine Emergent Wetland (C-CAP)  \n",
    "16 \tEstuarine Forested Wetland (C-CAP)  \n",
    "17 \tEstuarine Scrub/Shrub Wetland (C-CAP)  \n",
    "18 \tEstuarine Emergent Wetland (C-CAP)  \n",
    "\n",
    "**Forest**  \n",
    "9 \tDeciduous Forest  \n",
    "10 \tEvergreen Forest  "
   ]
  },
  {
   "cell_type": "code",
   "execution_count": null,
   "id": "f90af965",
   "metadata": {
    "ExecuteTime": {
     "end_time": "2021-12-22T21:29:38.618018Z",
     "start_time": "2021-12-22T21:29:38.618018Z"
    },
    "hidden": true
   },
   "outputs": [],
   "source": [
    "# recode based on cover code\n",
    "def developed(img_as_array):\n",
    "    condition = np.where(((img_as_array == 2) | (img_as_array ==5)), 1, 0)\n",
    "    return condition\n",
    "def wetland(img_as_array):\n",
    "    condition = np.where(((img_as_array >= 12) & (img_as_array <=18)), 1, 0)\n",
    "    return condition\n",
    "def forest_shrub(img_as_array):\n",
    "    condition = np.where(((img_as_array == 9) | (img_as_array ==10)), 1, 0)\n",
    "    return condition\n",
    "\n",
    "#do the recoding of the raster\n",
    "def recode_lc(to_filepath, lc):\n",
    "    step1 = gdal.Open('data/2016_HighResLandCover/Job680452_2016_HighResLandCover.tif', gdal.GA_ReadOnly)\n",
    "\n",
    "    GT_input = step1.GetGeoTransform()\n",
    "    afn = Affine.from_gdal(*GT_input)\n",
    "\n",
    "    print(\"step1 done\", sep = \" \")\n",
    "    step2 = step1.GetRasterBand(1)\n",
    "    img_as_array = step2.ReadAsArray()\n",
    "    size1,size2=img_as_array.shape\n",
    "    print(\"step2 done\", sep = \" \")\n",
    "    \n",
    "    if lc == \"developed\":\n",
    "        output = developed(img_as_array)\n",
    "    elif lc == \"wetland\":\n",
    "        output = wetland(img_as_array)\n",
    "    elif lc == \"forest_shrub\":\n",
    "        output = forest_shrub(img_as_array)\n",
    "    else:\n",
    "        print(\"unknown recode\")\n",
    "\n",
    "    print(\"recode done\")\n",
    "    \n",
    "    dst_crs='EPSG:3586'\n",
    "    output = np.float32(output)\n",
    "    with rasterio.open(\n",
    "        to_filepath,\n",
    "        'w',\n",
    "        driver='GTiff',\n",
    "        height=output.shape[0],\n",
    "        width=output.shape[1],\n",
    "        count=1,\n",
    "        dtype=np.float32,\n",
    "        crs=dst_crs,\n",
    "        transform=afn,\n",
    "    ) as dest_file:\n",
    "        dest_file.write(output, 1)\n",
    "    dest_file.close()"
   ]
  },
  {
   "cell_type": "markdown",
   "id": "f5fa276b",
   "metadata": {
    "hidden": true
   },
   "source": [
    "## Do the recoding"
   ]
  },
  {
   "cell_type": "code",
   "execution_count": null,
   "id": "c5d2d824",
   "metadata": {
    "ExecuteTime": {
     "end_time": "2021-12-22T21:29:38.621243Z",
     "start_time": "2021-12-22T21:29:38.621243Z"
    },
    "hidden": true
   },
   "outputs": [],
   "source": [
    "to_filepath = 'data/2016_HighResLandCover/developed.tif'\n",
    "recode_lc(to_filepath, \"developed\")\n",
    "\n",
    "to_filepath = 'data/2016_HighResLandCover/wetland.tif'\n",
    "recode_lc(to_filepath, \"wetland\")\n",
    "\n",
    "to_filepath = 'data/2016_HighResLandCover/forest_shrub.tif'\n",
    "recode_lc(to_filepath, \"forest_shrub\")"
   ]
  },
  {
   "cell_type": "code",
   "execution_count": null,
   "id": "cd6583ca",
   "metadata": {
    "ExecuteTime": {
     "end_time": "2021-12-22T21:29:38.624888Z",
     "start_time": "2021-12-22T21:29:38.624888Z"
    },
    "hidden": true
   },
   "outputs": [],
   "source": [
    "#reproject shapes to raster projection\n",
    "parcels = parcels.to_crs(\"EPSG:3586\")\n",
    "\n",
    "#CALCULATE FREST/SHRUB COVER\n",
    "x= zonal_stats(parcels,\n",
    "            'data/2016_HighResLandCover/forest_shrub.tif',\n",
    "            stats=\"mean\", all_touched=True)\n",
    "x = pd.DataFrame(x, index=parcels.index)\n",
    "x.columns = x.columns.map(lambda x: str(x) + '_for')\n",
    "parcels = parcels.join(x)\n",
    "print(\"forest done\")\n",
    "\n",
    "winsound.Beep(freq, duration)"
   ]
  },
  {
   "cell_type": "code",
   "execution_count": null,
   "id": "2d538235",
   "metadata": {
    "ExecuteTime": {
     "end_time": "2021-12-22T21:29:38.628035Z",
     "start_time": "2021-12-22T21:29:38.628035Z"
    },
    "hidden": true
   },
   "outputs": [],
   "source": [
    "x= zonal_stats(parcels,\n",
    "            'data/2016_HighResLandCover/wetland.tif',\n",
    "            stats=\"mean\", all_touched=True)\n",
    "x = pd.DataFrame(x, index=parcels.index)\n",
    "x.columns = x.columns.map(lambda x: str(x) + '_wet')\n",
    "parcels = parcels.join(x)\n",
    "print(\"wetland done\")\n",
    "\n",
    "x= zonal_stats(parcels,\n",
    "            'data/2016_HighResLandCover/developed.tif',\n",
    "            stats=\"mean\", all_touched=True)\n",
    "x = pd.DataFrame(x, index=parcels.index)\n",
    "x.columns = x.columns.map(lambda x: str(x) + '_dev')\n",
    "parcels = parcels.join(x)\n",
    "print(\"developed done\")\n",
    "\n",
    "winsound.Beep(freq, duration)"
   ]
  },
  {
   "cell_type": "markdown",
   "id": "e2b816f1",
   "metadata": {
    "heading_collapsed": true
   },
   "source": [
    "# Join CH61"
   ]
  },
  {
   "cell_type": "code",
   "execution_count": null,
   "id": "ef797b72",
   "metadata": {
    "ExecuteTime": {
     "end_time": "2021-12-22T21:29:38.631364Z",
     "start_time": "2021-12-22T21:29:38.631364Z"
    },
    "hidden": true
   },
   "outputs": [],
   "source": [
    "ch61 = pd.read_csv(\"data/assessor/CH61.csv\")\n",
    "\n",
    "ch61 = ch61[[\"PARCEL_NUM\", \"CH61_TYPE\"]]\n",
    "\n",
    "ch61.columns = ['MAP_PAR_ID','CH61_TYPE']\n",
    "ch61[\"rep\"] = \"-000\"\n",
    "ch61['MAP_PAR_ID'] = ch61['MAP_PAR_ID'].str.cat([ch61['rep']])"
   ]
  },
  {
   "cell_type": "code",
   "execution_count": null,
   "id": "7883feb3",
   "metadata": {
    "ExecuteTime": {
     "end_time": "2021-12-22T21:29:38.634899Z",
     "start_time": "2021-12-22T21:29:38.634899Z"
    },
    "hidden": true
   },
   "outputs": [],
   "source": [
    "ch61['MAP_PAR_ID'].head()"
   ]
  },
  {
   "cell_type": "code",
   "execution_count": null,
   "id": "0f84395b",
   "metadata": {
    "ExecuteTime": {
     "end_time": "2021-12-22T21:29:38.637975Z",
     "start_time": "2021-12-22T21:29:38.637975Z"
    },
    "hidden": true
   },
   "outputs": [],
   "source": [
    "parcels[\"MAP_PAR_ID\"].head()"
   ]
  },
  {
   "cell_type": "code",
   "execution_count": null,
   "id": "3d8d3b38",
   "metadata": {
    "ExecuteTime": {
     "end_time": "2021-12-22T21:29:38.641022Z",
     "start_time": "2021-12-22T21:29:38.641022Z"
    },
    "hidden": true
   },
   "outputs": [],
   "source": [
    "parcels = parcels.set_index(\"MAP_PAR_ID\").join(ch61.set_index(\"MAP_PAR_ID\"), how = \"left\")"
   ]
  },
  {
   "cell_type": "markdown",
   "id": "93d962d1",
   "metadata": {},
   "source": [
    "# Export All"
   ]
  },
  {
   "cell_type": "code",
   "execution_count": null,
   "id": "b6d64e38",
   "metadata": {
    "ExecuteTime": {
     "end_time": "2021-12-22T21:29:38.644026Z",
     "start_time": "2021-12-22T21:29:38.644026Z"
    }
   },
   "outputs": [],
   "source": [
    "#parcels = parcels[[\"MAP_PAR_ID\",\"t_as_val_x\",\"area_x\",\"val_per_ar_x\",\"PRIHAB_ID\",\"mean_fors\",\"mean_wetl\",\"mean_dev\",\"geometry_x\", \"mean\", \"mean_gain\"]]"
   ]
  },
  {
   "cell_type": "code",
   "execution_count": null,
   "id": "e28ae3eb",
   "metadata": {
    "ExecuteTime": {
     "end_time": "2021-12-22T21:29:38.647868Z",
     "start_time": "2021-12-22T21:29:38.647868Z"
    }
   },
   "outputs": [],
   "source": [
    "parcels.reset_index(inplace = True)"
   ]
  },
  {
   "cell_type": "code",
   "execution_count": null,
   "id": "d9dc0e5a",
   "metadata": {
    "ExecuteTime": {
     "end_time": "2021-12-22T21:29:38.650871Z",
     "start_time": "2021-12-22T21:29:38.650871Z"
    }
   },
   "outputs": [],
   "source": [
    "parcels[['MAP_PAR_ID', 't_as_val_x', 'LUC_x', \"CH61_TYPE\", 'geometry_x', 'area_x','POLY_ID', 'SITE_NAME',\n",
    "       'FEE_OWNER', 'PRIM_PURP', 'PUB_ACCESS', 'LEV_PROT',\n",
    "       'mean_loss', 'mean_gain', 'mean_prihab', 'mean_for', 'mean_wet',\n",
    "       'mean_dev']].to_file(\"data/parcels.shp\")"
   ]
  }
 ],
 "metadata": {
  "kernelspec": {
   "display_name": "Python 3 (ipykernel)",
   "language": "python",
   "name": "python3"
  },
  "language_info": {
   "codemirror_mode": {
    "name": "ipython",
    "version": 3
   },
   "file_extension": ".py",
   "mimetype": "text/x-python",
   "name": "python",
   "nbconvert_exporter": "python",
   "pygments_lexer": "ipython3",
   "version": "3.9.7"
  },
  "toc": {
   "base_numbering": 1,
   "nav_menu": {},
   "number_sections": true,
   "sideBar": true,
   "skip_h1_title": false,
   "title_cell": "Table of Contents",
   "title_sidebar": "Contents",
   "toc_cell": false,
   "toc_position": {},
   "toc_section_display": true,
   "toc_window_display": false
  }
 },
 "nbformat": 4,
 "nbformat_minor": 5
}
