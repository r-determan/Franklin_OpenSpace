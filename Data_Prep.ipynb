{
 "cells": [
  {
   "cell_type": "markdown",
   "id": "c62a6e05",
   "metadata": {
    "heading_collapsed": true
   },
   "source": [
    "# Pre-processing of data\n",
    "## Sources\n",
    "https://storage.googleapis.com/earthenginepartners-hansen/GFC-2020-v1.8/Hansen_GFC-2020-v1.8_lossyear_50N_080W.tif"
   ]
  },
  {
   "cell_type": "code",
   "execution_count": 1,
   "id": "5bc90cd9",
   "metadata": {
    "ExecuteTime": {
     "end_time": "2021-12-30T00:33:51.627310Z",
     "start_time": "2021-12-30T00:33:46.903500Z"
    },
    "hidden": true
   },
   "outputs": [
    {
     "data": {
      "text/plain": [
       "'C:\\\\Users\\\\RoseDeterman\\\\2021_Fall\\\\EE508_data\\\\Final_2\\\\Franklin_OpenSpace'"
      ]
     },
     "execution_count": 1,
     "metadata": {},
     "output_type": "execute_result"
    }
   ],
   "source": [
    "import numpy as np\n",
    "import pandas as pd\n",
    "import geopandas as gpd\n",
    "import matplotlib.pyplot as plt\n",
    "from osgeo import gdal\n",
    "import os\n",
    "\n",
    "from rasterstats import zonal_stats\n",
    "\n",
    "from rasterio import open as r_open\n",
    "from osgeo import gdal\n",
    "import rasterio\n",
    "from affine import Affine\n",
    "from subprocess import Popen\n",
    "\n",
    "import rasterio\n",
    "from rasterio.plot import reshape_as_image\n",
    "import rasterio.mask\n",
    "from rasterio.features import rasterize\n",
    "from shapely.geometry import mapping, Point, Polygon\n",
    "from shapely.ops import cascaded_union\n",
    "\n",
    "os.getcwd()"
   ]
  },
  {
   "cell_type": "code",
   "execution_count": 2,
   "id": "d9cfc90c",
   "metadata": {
    "ExecuteTime": {
     "end_time": "2021-12-30T00:33:51.915564Z",
     "start_time": "2021-12-30T00:33:51.632141Z"
    },
    "hidden": true
   },
   "outputs": [],
   "source": [
    "import winsound\n",
    "duration = 250\n",
    "freq = 350\n",
    "winsound.Beep(freq, duration)"
   ]
  },
  {
   "cell_type": "markdown",
   "id": "5753c515",
   "metadata": {
    "ExecuteTime": {
     "end_time": "2021-12-08T22:51:01.659791Z",
     "start_time": "2021-12-08T22:51:01.643106Z"
    },
    "heading_collapsed": true
   },
   "source": [
    "# Parcels"
   ]
  },
  {
   "cell_type": "code",
   "execution_count": 3,
   "id": "0e25bc2a",
   "metadata": {
    "ExecuteTime": {
     "end_time": "2021-12-30T00:33:53.613444Z",
     "start_time": "2021-12-30T00:33:51.920932Z"
    },
    "hidden": true
   },
   "outputs": [],
   "source": [
    "#import\n",
    "parcels = gpd.read_file(\"data/L3_SHP_M101_FRANKLIN\\L3_SHP_M101_Franklin/M101TaxPar_CY21_FY22.shp\")\n",
    "\n",
    "#drop rows with an unknown or no parcel id\n",
    "lgc = (parcels[\"MAP_PAR_ID\"] == \"UNKNOWN\") | (parcels[\"MAP_PAR_ID\"].isnull())\n",
    "parcels = parcels[~lgc]"
   ]
  },
  {
   "cell_type": "markdown",
   "id": "3b41132d",
   "metadata": {
    "ExecuteTime": {
     "end_time": "2021-12-08T22:53:09.501713Z",
     "start_time": "2021-12-08T22:53:09.481120Z"
    },
    "hidden": true
   },
   "source": [
    "## Join with assessor's data"
   ]
  },
  {
   "cell_type": "code",
   "execution_count": 4,
   "id": "5b47fee1",
   "metadata": {
    "ExecuteTime": {
     "end_time": "2021-12-30T00:33:54.145658Z",
     "start_time": "2021-12-30T00:33:53.618539Z"
    },
    "hidden": true
   },
   "outputs": [],
   "source": [
    "#import \n",
    "asr = pd.read_csv(\"data/assessor/CDM_GIS_output_edit.csv\")\n",
    "\n",
    "#rename id column\n",
    "asr.rename(columns = {'Parcel ID Number':'MAP_PAR_ID'}, inplace = True)\n",
    "#trim white space from id\n",
    "asr[\"MAP_PAR_ID\"] = asr[\"MAP_PAR_ID\"].str.strip()\n",
    "\n",
    "#join parcels with the assesed value data\n",
    "parcels = parcels.set_index('MAP_PAR_ID').join(asr.set_index('MAP_PAR_ID'))\n",
    "\n",
    "#keep only columns related to assessed value\n",
    "parcels = parcels[[ \"Total Assessed Value\",\"Primary Land Use Code (LUC)\", \"geometry\"]]\n",
    "parcels.columns = [ 't_as_val','LUC', 'geometry']"
   ]
  },
  {
   "cell_type": "markdown",
   "id": "eaf5a91c",
   "metadata": {
    "hidden": true
   },
   "source": [
    "## Calculate cost per area"
   ]
  },
  {
   "cell_type": "code",
   "execution_count": 5,
   "id": "3d8a1419",
   "metadata": {
    "ExecuteTime": {
     "end_time": "2021-12-30T00:33:54.517774Z",
     "start_time": "2021-12-30T00:33:54.151392Z"
    },
    "hidden": true
   },
   "outputs": [],
   "source": [
    "#Calculate Parcel area\n",
    "#convert to equal area projection and calculate area\n",
    "parcels['area'] = parcels.to_crs(\"EPSG:2163\").geometry.area\n",
    "\n",
    "#Calculate cost per area\n",
    "parcels['val_per_ar'] = parcels['t_as_val']/parcels['area']"
   ]
  },
  {
   "cell_type": "markdown",
   "id": "a0fc5bae",
   "metadata": {
    "heading_collapsed": true
   },
   "source": [
    "# Open Space\n"
   ]
  },
  {
   "cell_type": "code",
   "execution_count": 6,
   "id": "60b23be9",
   "metadata": {
    "ExecuteTime": {
     "end_time": "2021-12-30T00:33:54.533580Z",
     "start_time": "2021-12-30T00:33:54.521274Z"
    },
    "hidden": true
   },
   "outputs": [],
   "source": [
    "parcels.reset_index(inplace=True)"
   ]
  },
  {
   "cell_type": "code",
   "execution_count": 7,
   "id": "35c5b4c2",
   "metadata": {
    "ExecuteTime": {
     "end_time": "2021-12-30T00:34:08.154807Z",
     "start_time": "2021-12-30T00:33:54.537821Z"
    },
    "hidden": true
   },
   "outputs": [],
   "source": [
    "open_poly = gpd.read_file(\"data/openspace/OPENSPACE_POLY.shp\")\n",
    "open_poly = open_poly[open_poly[\"TOWN_ID\"] == 101]\n",
    "open_poly = open_poly[[\"POLY_ID\", \"SITE_NAME\", \"FEE_OWNER\", \"PRIM_PURP\", \"PUB_ACCESS\",\"LEV_PROT\", \"geometry\"]]\n",
    "\n",
    "winsound.Beep(freq, duration)"
   ]
  },
  {
   "cell_type": "code",
   "execution_count": 8,
   "id": "dbbe9d1b",
   "metadata": {
    "ExecuteTime": {
     "end_time": "2021-12-30T00:34:08.712614Z",
     "start_time": "2021-12-30T00:34:08.162796Z"
    },
    "hidden": true
   },
   "outputs": [],
   "source": [
    "inters = gpd.overlay(parcels,open_poly, how='intersection', make_valid=True, keep_geom_type = True)"
   ]
  },
  {
   "cell_type": "code",
   "execution_count": 9,
   "id": "f93d27a4",
   "metadata": {
    "ExecuteTime": {
     "end_time": "2021-12-30T00:34:08.766505Z",
     "start_time": "2021-12-30T00:34:08.714910Z"
    },
    "hidden": true
   },
   "outputs": [],
   "source": [
    "parcels = parcels.merge(inters,\n",
    "               left_on='MAP_PAR_ID', right_on='MAP_PAR_ID', how='left')\n",
    "parcels = parcels.set_geometry(\"geometry_x\")"
   ]
  },
  {
   "cell_type": "markdown",
   "id": "7bb58141",
   "metadata": {
    "heading_collapsed": true
   },
   "source": [
    "# Forest Change"
   ]
  },
  {
   "cell_type": "code",
   "execution_count": 10,
   "id": "ffb005a8",
   "metadata": {
    "ExecuteTime": {
     "end_time": "2021-12-30T00:34:08.998119Z",
     "start_time": "2021-12-30T00:34:08.774508Z"
    },
    "hidden": true
   },
   "outputs": [],
   "source": [
    "#Clip to extent of town borders\n",
    "\n",
    "ds = gdal.Open('data/forest_change/Hansen_GFC-2020-v1.8_gain_50N_080W.tif')\n",
    "ds = gdal.Translate('data/forest_change/gain_clip.tif', ds, projWin = [-71.45590532518631,\n",
    "                                                                       42.1395760939559,\n",
    "                                                                       -71.3591633138789,\n",
    "                                                                       42.034819575711865])\n",
    "ds = None\n",
    "\n",
    "ds = gdal.Open('data/forest_change/Hansen_GFC-2020-v1.8_lossyear_50N_080W.tif')\n",
    "ds = gdal.Translate('data/forest_change/loss_clip.tif', ds, projWin = [-71.45590532518631,42.1395760939559,\n",
    "                                                                     -71.3591633138789,42.034819575711865])\n",
    "ds = None "
   ]
  },
  {
   "cell_type": "code",
   "execution_count": 11,
   "id": "1653a7b8",
   "metadata": {
    "ExecuteTime": {
     "end_time": "2021-12-30T00:34:09.066373Z",
     "start_time": "2021-12-30T00:34:09.000943Z"
    },
    "hidden": true
   },
   "outputs": [],
   "source": [
    "step1 = gdal.Open('data/forest_change/loss_clip.tif', gdal.GA_ReadOnly)\n",
    "\n",
    "GT_input = step1.GetGeoTransform()\n",
    "afn = Affine.from_gdal(*GT_input)\n",
    "\n",
    "step2 = step1.GetRasterBand(1)\n",
    "img_as_array = step2.ReadAsArray()\n",
    "size1,size2=img_as_array.shape\n",
    "\n",
    "output = np.where(img_as_array != 0, 1, 0)\n",
    "\n",
    "\n",
    "dst_crs='EPSG:4326'\n",
    "\n",
    "output = np.float32(output)\n",
    "with rasterio.open(\n",
    "    'data/forest_change/loss_clip_recode.tif',\n",
    "   'w',\n",
    "    driver='GTiff',\n",
    "    height=output.shape[0],\n",
    "    width=output.shape[1],\n",
    "    count=1,\n",
    "    dtype=np.float32,\n",
    "    crs=dst_crs,\n",
    "    transform=afn,\n",
    ") as dest_file:\n",
    "    dest_file.write(output, 1)\n",
    "dest_file.close()\n"
   ]
  },
  {
   "cell_type": "code",
   "execution_count": 12,
   "id": "8ba66fa2",
   "metadata": {
    "ExecuteTime": {
     "end_time": "2021-12-30T00:37:10.205928Z",
     "start_time": "2021-12-30T00:34:09.069710Z"
    },
    "hidden": true
   },
   "outputs": [
    {
     "name": "stderr",
     "output_type": "stream",
     "text": [
      "C:\\Users\\RoseDeterman\\anaconda3\\envs\\gis3\\lib\\site-packages\\rasterstats\\io.py:313: UserWarning: Setting nodata to -999; specify nodata explicitly\n",
      "  warnings.warn(\"Setting nodata to -999; specify nodata explicitly\")\n",
      "C:\\Users\\RoseDeterman\\anaconda3\\envs\\gis3\\lib\\site-packages\\rasterstats\\io.py:313: UserWarning: Setting nodata to -999; specify nodata explicitly\n",
      "  warnings.warn(\"Setting nodata to -999; specify nodata explicitly\")\n"
     ]
    }
   ],
   "source": [
    "parcels = parcels.to_crs(\"EPSG:4326\")\n",
    "x= zonal_stats(parcels,\n",
    "            \"data/forest_change/loss_clip_recode.tif\",\n",
    "            stats=\"mean\", all_touched=True)\n",
    "x = pd.DataFrame(x, index=parcels.index)\n",
    "x.columns = x.columns.map(lambda x: str(x) + '_loss')\n",
    "parcels = parcels.join(x)\n",
    "\n",
    "x= zonal_stats(parcels,\n",
    "            \"data/forest_change/gain_clip.tif\",\n",
    "            stats=\"mean\", all_touched=True)\n",
    "x = pd.DataFrame(x, index=parcels.index)\n",
    "x.columns = x.columns.map(lambda x: str(x) + '_gain')\n",
    "parcels = parcels.join(pd.DataFrame(x, index=parcels.index))\n",
    "\n",
    "winsound.Beep(freq, duration)"
   ]
  },
  {
   "cell_type": "markdown",
   "id": "ff64e102",
   "metadata": {
    "heading_collapsed": true
   },
   "source": [
    "# Priority Habitat\n",
    "https://lpsmlgeo.github.io/2019-09-22-binary_mask/"
   ]
  },
  {
   "cell_type": "code",
   "execution_count": 13,
   "id": "1ba65364",
   "metadata": {
    "ExecuteTime": {
     "end_time": "2021-12-30T00:37:10.260725Z",
     "start_time": "2021-12-30T00:37:10.218721Z"
    },
    "hidden": true
   },
   "outputs": [],
   "source": [
    "raster_path = \"data/forest_change/gain_clip.tif\"\n",
    "with rasterio.open(raster_path, \"r\") as src:\n",
    "    raster_img = src.read()\n",
    "    raster_meta = src.meta"
   ]
  },
  {
   "cell_type": "code",
   "execution_count": 14,
   "id": "4b5353e7",
   "metadata": {
    "ExecuteTime": {
     "end_time": "2021-12-30T00:37:11.413666Z",
     "start_time": "2021-12-30T00:37:10.266180Z"
    },
    "hidden": true
   },
   "outputs": [],
   "source": [
    "shape_path = \"data/prihab/PRIHAB_POLY.shp\"\n",
    "train_df = gpd.read_file(shape_path)"
   ]
  },
  {
   "cell_type": "code",
   "execution_count": 15,
   "id": "5b698546",
   "metadata": {
    "ExecuteTime": {
     "end_time": "2021-12-30T00:37:13.348647Z",
     "start_time": "2021-12-30T00:37:11.418303Z"
    },
    "hidden": true
   },
   "outputs": [],
   "source": [
    "train_df= train_df.to_crs(\"EPSG:4326\")"
   ]
  },
  {
   "cell_type": "code",
   "execution_count": 16,
   "id": "c9956a30",
   "metadata": {
    "ExecuteTime": {
     "end_time": "2021-12-30T00:37:13.378074Z",
     "start_time": "2021-12-30T00:37:13.354109Z"
    },
    "hidden": true
   },
   "outputs": [
    {
     "name": "stdout",
     "output_type": "stream",
     "text": [
      "CRS Raster: EPSG:4326, CRS Vector EPSG:4326\n"
     ]
    }
   ],
   "source": [
    "print(\"CRS Raster: {}, CRS Vector {}\".format(train_df.crs, src.crs))"
   ]
  },
  {
   "cell_type": "code",
   "execution_count": 17,
   "id": "38805386",
   "metadata": {
    "ExecuteTime": {
     "end_time": "2021-12-30T00:37:22.015531Z",
     "start_time": "2021-12-30T00:37:13.384076Z"
    },
    "hidden": true
   },
   "outputs": [
    {
     "name": "stderr",
     "output_type": "stream",
     "text": [
      "C:\\Users\\ROSEDE~1\\AppData\\Local\\Temp/ipykernel_9948/2447698549.py:4: ShapelyDeprecationWarning: The 'cascaded_union()' function is deprecated. Use 'unary_union()' instead.\n",
      "  poly = cascaded_union(polygon)\n",
      "C:\\Users\\ROSEDE~1\\AppData\\Local\\Temp/ipykernel_9948/2447698549.py:23: ShapelyDeprecationWarning: Iteration over multi-part geometries is deprecated and will be removed in Shapely 2.0. Use the `geoms` property to access the constituent parts of a multi-part geometry.\n",
      "  for p in row['geometry']:\n"
     ]
    }
   ],
   "source": [
    "def poly_from_utm(polygon, transform):\n",
    "    poly_pts = []\n",
    "    \n",
    "    poly = cascaded_union(polygon)\n",
    "    for i in np.array(poly.exterior.coords):\n",
    "        \n",
    "        # Convert polygons to the image CRS\n",
    "        poly_pts.append(~transform * tuple(i))\n",
    "        \n",
    "    # Generate a polygon object\n",
    "    new_poly = Polygon(poly_pts)\n",
    "    return new_poly\n",
    "\n",
    "# Generate Binary maks\n",
    "\n",
    "poly_shp = []\n",
    "im_size = (src.meta['height'], src.meta['width'])\n",
    "for num, row in train_df.iterrows():\n",
    "    if row['geometry'].geom_type == 'Polygon':\n",
    "        poly = poly_from_utm(row['geometry'], src.meta['transform'])\n",
    "        poly_shp.append(poly)\n",
    "    else:\n",
    "        for p in row['geometry']:\n",
    "            poly = poly_from_utm(p, src.meta['transform'])\n",
    "            poly_shp.append(poly)\n",
    "\n",
    "mask = rasterize(shapes=poly_shp,\n",
    "                 out_shape=im_size)\n",
    "\n",
    "winsound.Beep(freq, duration)"
   ]
  },
  {
   "cell_type": "code",
   "execution_count": 18,
   "id": "ba0161a2",
   "metadata": {
    "ExecuteTime": {
     "end_time": "2021-12-30T00:37:22.168416Z",
     "start_time": "2021-12-30T00:37:22.030482Z"
    },
    "hidden": true
   },
   "outputs": [],
   "source": [
    "#mask = mask.astype(\"uint8\")\n",
    "save_path = \"data/prihab/prihab.tif\"\n",
    "bin_mask_meta = src.meta.copy()\n",
    "bin_mask_meta.update({'count': 1})\n",
    "with rasterio.open(save_path, 'w', **bin_mask_meta) as dst:\n",
    "    dst.write(mask, 1)"
   ]
  },
  {
   "cell_type": "code",
   "execution_count": 19,
   "id": "3a2f38b5",
   "metadata": {
    "ExecuteTime": {
     "end_time": "2021-12-30T00:38:37.697163Z",
     "start_time": "2021-12-30T00:37:22.171317Z"
    },
    "hidden": true
   },
   "outputs": [
    {
     "name": "stderr",
     "output_type": "stream",
     "text": [
      "C:\\Users\\RoseDeterman\\anaconda3\\envs\\gis3\\lib\\site-packages\\rasterstats\\io.py:313: UserWarning: Setting nodata to -999; specify nodata explicitly\n",
      "  warnings.warn(\"Setting nodata to -999; specify nodata explicitly\")\n"
     ]
    }
   ],
   "source": [
    "x= zonal_stats(parcels,\n",
    "            \"data/prihab/prihab.tif\",\n",
    "            stats=\"mean\", all_touched=True)\n",
    "x = pd.DataFrame(x, index=parcels.index)\n",
    "x.columns = x.columns.map(lambda x: str(x) + '_prihab')\n",
    "parcels = parcels.join(x)\n",
    "\n",
    "winsound.Beep(freq, duration)"
   ]
  },
  {
   "cell_type": "code",
   "execution_count": 20,
   "id": "d1ee2abb",
   "metadata": {
    "ExecuteTime": {
     "end_time": "2021-12-30T00:38:37.823449Z",
     "start_time": "2021-12-30T00:38:37.715166Z"
    },
    "hidden": true
   },
   "outputs": [
    {
     "data": {
      "text/html": [
       "<div>\n",
       "<style scoped>\n",
       "    .dataframe tbody tr th:only-of-type {\n",
       "        vertical-align: middle;\n",
       "    }\n",
       "\n",
       "    .dataframe tbody tr th {\n",
       "        vertical-align: top;\n",
       "    }\n",
       "\n",
       "    .dataframe thead th {\n",
       "        text-align: right;\n",
       "    }\n",
       "</style>\n",
       "<table border=\"1\" class=\"dataframe\">\n",
       "  <thead>\n",
       "    <tr style=\"text-align: right;\">\n",
       "      <th></th>\n",
       "      <th>MAP_PAR_ID</th>\n",
       "      <th>t_as_val_x</th>\n",
       "      <th>LUC_x</th>\n",
       "      <th>geometry_x</th>\n",
       "      <th>area_x</th>\n",
       "      <th>val_per_ar_x</th>\n",
       "      <th>t_as_val_y</th>\n",
       "      <th>LUC_y</th>\n",
       "      <th>area_y</th>\n",
       "      <th>val_per_ar_y</th>\n",
       "      <th>POLY_ID</th>\n",
       "      <th>SITE_NAME</th>\n",
       "      <th>FEE_OWNER</th>\n",
       "      <th>PRIM_PURP</th>\n",
       "      <th>PUB_ACCESS</th>\n",
       "      <th>LEV_PROT</th>\n",
       "      <th>geometry_y</th>\n",
       "      <th>mean_loss</th>\n",
       "      <th>mean_gain</th>\n",
       "      <th>mean_prihab</th>\n",
       "    </tr>\n",
       "  </thead>\n",
       "  <tbody>\n",
       "    <tr>\n",
       "      <th>0</th>\n",
       "      <td>201-001-000-000</td>\n",
       "      <td>401000.0</td>\n",
       "      <td>101.0</td>\n",
       "      <td>POLYGON ((-71.43081 42.13718, -71.43157 42.137...</td>\n",
       "      <td>1834.231072</td>\n",
       "      <td>218.620220</td>\n",
       "      <td>NaN</td>\n",
       "      <td>NaN</td>\n",
       "      <td>NaN</td>\n",
       "      <td>NaN</td>\n",
       "      <td>NaN</td>\n",
       "      <td>NaN</td>\n",
       "      <td>NaN</td>\n",
       "      <td>NaN</td>\n",
       "      <td>NaN</td>\n",
       "      <td>NaN</td>\n",
       "      <td>None</td>\n",
       "      <td>0.000000</td>\n",
       "      <td>0.0</td>\n",
       "      <td>0.0</td>\n",
       "    </tr>\n",
       "    <tr>\n",
       "      <th>1</th>\n",
       "      <td>201-002-000-000</td>\n",
       "      <td>414100.0</td>\n",
       "      <td>101.0</td>\n",
       "      <td>POLYGON ((-71.43091 42.13744, -71.43166 42.137...</td>\n",
       "      <td>1732.957516</td>\n",
       "      <td>238.955656</td>\n",
       "      <td>NaN</td>\n",
       "      <td>NaN</td>\n",
       "      <td>NaN</td>\n",
       "      <td>NaN</td>\n",
       "      <td>NaN</td>\n",
       "      <td>NaN</td>\n",
       "      <td>NaN</td>\n",
       "      <td>NaN</td>\n",
       "      <td>NaN</td>\n",
       "      <td>NaN</td>\n",
       "      <td>None</td>\n",
       "      <td>0.000000</td>\n",
       "      <td>0.0</td>\n",
       "      <td>0.0</td>\n",
       "    </tr>\n",
       "    <tr>\n",
       "      <th>2</th>\n",
       "      <td>201-003-000-000</td>\n",
       "      <td>363200.0</td>\n",
       "      <td>101.0</td>\n",
       "      <td>POLYGON ((-71.43192 42.13733, -71.43193 42.137...</td>\n",
       "      <td>1986.090653</td>\n",
       "      <td>182.871814</td>\n",
       "      <td>NaN</td>\n",
       "      <td>NaN</td>\n",
       "      <td>NaN</td>\n",
       "      <td>NaN</td>\n",
       "      <td>NaN</td>\n",
       "      <td>NaN</td>\n",
       "      <td>NaN</td>\n",
       "      <td>NaN</td>\n",
       "      <td>NaN</td>\n",
       "      <td>NaN</td>\n",
       "      <td>None</td>\n",
       "      <td>0.000000</td>\n",
       "      <td>0.0</td>\n",
       "      <td>0.0</td>\n",
       "    </tr>\n",
       "    <tr>\n",
       "      <th>3</th>\n",
       "      <td>201-004-000-000</td>\n",
       "      <td>424600.0</td>\n",
       "      <td>101.0</td>\n",
       "      <td>POLYGON ((-71.43171 42.13756, -71.43177 42.137...</td>\n",
       "      <td>1531.965647</td>\n",
       "      <td>277.160262</td>\n",
       "      <td>NaN</td>\n",
       "      <td>NaN</td>\n",
       "      <td>NaN</td>\n",
       "      <td>NaN</td>\n",
       "      <td>NaN</td>\n",
       "      <td>NaN</td>\n",
       "      <td>NaN</td>\n",
       "      <td>NaN</td>\n",
       "      <td>NaN</td>\n",
       "      <td>NaN</td>\n",
       "      <td>None</td>\n",
       "      <td>0.000000</td>\n",
       "      <td>0.0</td>\n",
       "      <td>0.0</td>\n",
       "    </tr>\n",
       "    <tr>\n",
       "      <th>4</th>\n",
       "      <td>201-005-000-000</td>\n",
       "      <td>356400.0</td>\n",
       "      <td>101.0</td>\n",
       "      <td>POLYGON ((-71.43142 42.13773, -71.43148 42.137...</td>\n",
       "      <td>1348.344907</td>\n",
       "      <td>264.324060</td>\n",
       "      <td>NaN</td>\n",
       "      <td>NaN</td>\n",
       "      <td>NaN</td>\n",
       "      <td>NaN</td>\n",
       "      <td>NaN</td>\n",
       "      <td>NaN</td>\n",
       "      <td>NaN</td>\n",
       "      <td>NaN</td>\n",
       "      <td>NaN</td>\n",
       "      <td>NaN</td>\n",
       "      <td>None</td>\n",
       "      <td>0.000000</td>\n",
       "      <td>0.0</td>\n",
       "      <td>0.0</td>\n",
       "    </tr>\n",
       "    <tr>\n",
       "      <th>...</th>\n",
       "      <td>...</td>\n",
       "      <td>...</td>\n",
       "      <td>...</td>\n",
       "      <td>...</td>\n",
       "      <td>...</td>\n",
       "      <td>...</td>\n",
       "      <td>...</td>\n",
       "      <td>...</td>\n",
       "      <td>...</td>\n",
       "      <td>...</td>\n",
       "      <td>...</td>\n",
       "      <td>...</td>\n",
       "      <td>...</td>\n",
       "      <td>...</td>\n",
       "      <td>...</td>\n",
       "      <td>...</td>\n",
       "      <td>...</td>\n",
       "      <td>...</td>\n",
       "      <td>...</td>\n",
       "      <td>...</td>\n",
       "    </tr>\n",
       "    <tr>\n",
       "      <th>10176</th>\n",
       "      <td>311-001-001-000</td>\n",
       "      <td>5230000.0</td>\n",
       "      <td>440.0</td>\n",
       "      <td>POLYGON ((-71.42319 42.06560, -71.42357 42.065...</td>\n",
       "      <td>41506.726354</td>\n",
       "      <td>126.003674</td>\n",
       "      <td>NaN</td>\n",
       "      <td>NaN</td>\n",
       "      <td>NaN</td>\n",
       "      <td>NaN</td>\n",
       "      <td>NaN</td>\n",
       "      <td>NaN</td>\n",
       "      <td>NaN</td>\n",
       "      <td>NaN</td>\n",
       "      <td>NaN</td>\n",
       "      <td>NaN</td>\n",
       "      <td>None</td>\n",
       "      <td>0.000000</td>\n",
       "      <td>0.0</td>\n",
       "      <td>0.0</td>\n",
       "    </tr>\n",
       "    <tr>\n",
       "      <th>10177</th>\n",
       "      <td>312-020-001-000</td>\n",
       "      <td>4795300.0</td>\n",
       "      <td>404.0</td>\n",
       "      <td>POLYGON ((-71.41491 42.06204, -71.41498 42.061...</td>\n",
       "      <td>76615.755872</td>\n",
       "      <td>62.588954</td>\n",
       "      <td>4795300.0</td>\n",
       "      <td>404.0</td>\n",
       "      <td>76615.755872</td>\n",
       "      <td>62.588954</td>\n",
       "      <td>3707.0</td>\n",
       "      <td>Well 6</td>\n",
       "      <td>City of Franklin</td>\n",
       "      <td>W</td>\n",
       "      <td>N</td>\n",
       "      <td>P</td>\n",
       "      <td>POLYGON ((206468.790 868129.847, 206619.705 86...</td>\n",
       "      <td>0.050000</td>\n",
       "      <td>0.0</td>\n",
       "      <td>0.0</td>\n",
       "    </tr>\n",
       "    <tr>\n",
       "      <th>10178</th>\n",
       "      <td>312-020-001-000</td>\n",
       "      <td>4795300.0</td>\n",
       "      <td>404.0</td>\n",
       "      <td>POLYGON ((-71.41491 42.06204, -71.41498 42.061...</td>\n",
       "      <td>76615.755872</td>\n",
       "      <td>62.588954</td>\n",
       "      <td>4795300.0</td>\n",
       "      <td>404.0</td>\n",
       "      <td>76615.755872</td>\n",
       "      <td>62.588954</td>\n",
       "      <td>3717.0</td>\n",
       "      <td>ACOE Easement</td>\n",
       "      <td>Sullivan Laurence E and Helen M</td>\n",
       "      <td>F</td>\n",
       "      <td>X</td>\n",
       "      <td>P</td>\n",
       "      <td>POLYGON ((206640.214 868245.435, 206640.941 86...</td>\n",
       "      <td>0.050000</td>\n",
       "      <td>0.0</td>\n",
       "      <td>0.0</td>\n",
       "    </tr>\n",
       "    <tr>\n",
       "      <th>10179</th>\n",
       "      <td>315-037-001-000</td>\n",
       "      <td>238200.0</td>\n",
       "      <td>106.0</td>\n",
       "      <td>POLYGON ((-71.38410 42.06265, -71.38423 42.062...</td>\n",
       "      <td>13232.108387</td>\n",
       "      <td>18.001666</td>\n",
       "      <td>NaN</td>\n",
       "      <td>NaN</td>\n",
       "      <td>NaN</td>\n",
       "      <td>NaN</td>\n",
       "      <td>NaN</td>\n",
       "      <td>NaN</td>\n",
       "      <td>NaN</td>\n",
       "      <td>NaN</td>\n",
       "      <td>NaN</td>\n",
       "      <td>NaN</td>\n",
       "      <td>None</td>\n",
       "      <td>0.054054</td>\n",
       "      <td>0.0</td>\n",
       "      <td>0.0</td>\n",
       "    </tr>\n",
       "    <tr>\n",
       "      <th>10180</th>\n",
       "      <td>321-005-001-000</td>\n",
       "      <td>400.0</td>\n",
       "      <td>132.0</td>\n",
       "      <td>POLYGON ((-71.41374 42.05969, -71.41413 42.059...</td>\n",
       "      <td>124.746750</td>\n",
       "      <td>3.206496</td>\n",
       "      <td>NaN</td>\n",
       "      <td>NaN</td>\n",
       "      <td>NaN</td>\n",
       "      <td>NaN</td>\n",
       "      <td>NaN</td>\n",
       "      <td>NaN</td>\n",
       "      <td>NaN</td>\n",
       "      <td>NaN</td>\n",
       "      <td>NaN</td>\n",
       "      <td>NaN</td>\n",
       "      <td>None</td>\n",
       "      <td>0.000000</td>\n",
       "      <td>0.0</td>\n",
       "      <td>0.0</td>\n",
       "    </tr>\n",
       "  </tbody>\n",
       "</table>\n",
       "<p>10181 rows × 20 columns</p>\n",
       "</div>"
      ],
      "text/plain": [
       "            MAP_PAR_ID  t_as_val_x  LUC_x  \\\n",
       "0      201-001-000-000    401000.0  101.0   \n",
       "1      201-002-000-000    414100.0  101.0   \n",
       "2      201-003-000-000    363200.0  101.0   \n",
       "3      201-004-000-000    424600.0  101.0   \n",
       "4      201-005-000-000    356400.0  101.0   \n",
       "...                ...         ...    ...   \n",
       "10176  311-001-001-000   5230000.0  440.0   \n",
       "10177  312-020-001-000   4795300.0  404.0   \n",
       "10178  312-020-001-000   4795300.0  404.0   \n",
       "10179  315-037-001-000    238200.0  106.0   \n",
       "10180  321-005-001-000       400.0  132.0   \n",
       "\n",
       "                                              geometry_x        area_x  \\\n",
       "0      POLYGON ((-71.43081 42.13718, -71.43157 42.137...   1834.231072   \n",
       "1      POLYGON ((-71.43091 42.13744, -71.43166 42.137...   1732.957516   \n",
       "2      POLYGON ((-71.43192 42.13733, -71.43193 42.137...   1986.090653   \n",
       "3      POLYGON ((-71.43171 42.13756, -71.43177 42.137...   1531.965647   \n",
       "4      POLYGON ((-71.43142 42.13773, -71.43148 42.137...   1348.344907   \n",
       "...                                                  ...           ...   \n",
       "10176  POLYGON ((-71.42319 42.06560, -71.42357 42.065...  41506.726354   \n",
       "10177  POLYGON ((-71.41491 42.06204, -71.41498 42.061...  76615.755872   \n",
       "10178  POLYGON ((-71.41491 42.06204, -71.41498 42.061...  76615.755872   \n",
       "10179  POLYGON ((-71.38410 42.06265, -71.38423 42.062...  13232.108387   \n",
       "10180  POLYGON ((-71.41374 42.05969, -71.41413 42.059...    124.746750   \n",
       "\n",
       "       val_per_ar_x  t_as_val_y  LUC_y        area_y  val_per_ar_y  POLY_ID  \\\n",
       "0        218.620220         NaN    NaN           NaN           NaN      NaN   \n",
       "1        238.955656         NaN    NaN           NaN           NaN      NaN   \n",
       "2        182.871814         NaN    NaN           NaN           NaN      NaN   \n",
       "3        277.160262         NaN    NaN           NaN           NaN      NaN   \n",
       "4        264.324060         NaN    NaN           NaN           NaN      NaN   \n",
       "...             ...         ...    ...           ...           ...      ...   \n",
       "10176    126.003674         NaN    NaN           NaN           NaN      NaN   \n",
       "10177     62.588954   4795300.0  404.0  76615.755872     62.588954   3707.0   \n",
       "10178     62.588954   4795300.0  404.0  76615.755872     62.588954   3717.0   \n",
       "10179     18.001666         NaN    NaN           NaN           NaN      NaN   \n",
       "10180      3.206496         NaN    NaN           NaN           NaN      NaN   \n",
       "\n",
       "           SITE_NAME                        FEE_OWNER PRIM_PURP PUB_ACCESS  \\\n",
       "0                NaN                              NaN       NaN        NaN   \n",
       "1                NaN                              NaN       NaN        NaN   \n",
       "2                NaN                              NaN       NaN        NaN   \n",
       "3                NaN                              NaN       NaN        NaN   \n",
       "4                NaN                              NaN       NaN        NaN   \n",
       "...              ...                              ...       ...        ...   \n",
       "10176            NaN                              NaN       NaN        NaN   \n",
       "10177         Well 6                 City of Franklin         W          N   \n",
       "10178  ACOE Easement  Sullivan Laurence E and Helen M         F          X   \n",
       "10179            NaN                              NaN       NaN        NaN   \n",
       "10180            NaN                              NaN       NaN        NaN   \n",
       "\n",
       "      LEV_PROT                                         geometry_y  mean_loss  \\\n",
       "0          NaN                                               None   0.000000   \n",
       "1          NaN                                               None   0.000000   \n",
       "2          NaN                                               None   0.000000   \n",
       "3          NaN                                               None   0.000000   \n",
       "4          NaN                                               None   0.000000   \n",
       "...        ...                                                ...        ...   \n",
       "10176      NaN                                               None   0.000000   \n",
       "10177        P  POLYGON ((206468.790 868129.847, 206619.705 86...   0.050000   \n",
       "10178        P  POLYGON ((206640.214 868245.435, 206640.941 86...   0.050000   \n",
       "10179      NaN                                               None   0.054054   \n",
       "10180      NaN                                               None   0.000000   \n",
       "\n",
       "       mean_gain  mean_prihab  \n",
       "0            0.0          0.0  \n",
       "1            0.0          0.0  \n",
       "2            0.0          0.0  \n",
       "3            0.0          0.0  \n",
       "4            0.0          0.0  \n",
       "...          ...          ...  \n",
       "10176        0.0          0.0  \n",
       "10177        0.0          0.0  \n",
       "10178        0.0          0.0  \n",
       "10179        0.0          0.0  \n",
       "10180        0.0          0.0  \n",
       "\n",
       "[10181 rows x 20 columns]"
      ]
     },
     "execution_count": 20,
     "metadata": {},
     "output_type": "execute_result"
    }
   ],
   "source": [
    "parcels"
   ]
  },
  {
   "cell_type": "markdown",
   "id": "28c218e3",
   "metadata": {},
   "source": [
    "# Land Cover"
   ]
  },
  {
   "cell_type": "markdown",
   "id": "703cdbe8",
   "metadata": {
    "heading_collapsed": true
   },
   "source": [
    "## Define function that recodes rasters to 0/1 based on landcover type of interest\n",
    "\n",
    "**Developed**  \n",
    "2 Impervious\n",
    "5 Developed open space  \n",
    "\n",
    "**Wetland**  \n",
    "13 \tPalustrine Forested Wetland (C-CAP)  \n",
    "14 \tPalustrine Scrub/Shrub Wetland (C-CAP)  \n",
    "15 \tPalustrine Emergent Wetland (C-CAP)  \n",
    "16 \tEstuarine Forested Wetland (C-CAP)  \n",
    "17 \tEstuarine Scrub/Shrub Wetland (C-CAP)  \n",
    "18 \tEstuarine Emergent Wetland (C-CAP)  \n",
    "\n",
    "**Forest**  \n",
    "9 \tDeciduous Forest  \n",
    "10 \tEvergreen Forest  "
   ]
  },
  {
   "cell_type": "code",
   "execution_count": 21,
   "id": "f90af965",
   "metadata": {
    "ExecuteTime": {
     "end_time": "2021-12-30T00:38:37.855504Z",
     "start_time": "2021-12-30T00:38:37.828726Z"
    },
    "hidden": true
   },
   "outputs": [],
   "source": [
    "# recode based on cover code\n",
    "def developed(img_as_array):\n",
    "    condition = np.where(((img_as_array == 2) | (img_as_array ==5)), 1, 0)\n",
    "    return condition\n",
    "def wetland(img_as_array):\n",
    "    condition = np.where(((img_as_array >= 12) & (img_as_array <=18)), 1, 0)\n",
    "    return condition\n",
    "def forest_shrub(img_as_array):\n",
    "    condition = np.where(((img_as_array == 9) | (img_as_array ==10)), 1, 0)\n",
    "    return condition\n",
    "\n",
    "#do the recoding of the raster\n",
    "def recode_lc(to_filepath, lc):\n",
    "    step1 = gdal.Open('data/2016_HighResLandCover/Job680452_2016_HighResLandCover.tif', gdal.GA_ReadOnly)\n",
    "\n",
    "    GT_input = step1.GetGeoTransform()\n",
    "    afn = Affine.from_gdal(*GT_input)\n",
    "\n",
    "    print(\"step1 done\", sep = \" \")\n",
    "    step2 = step1.GetRasterBand(1)\n",
    "    img_as_array = step2.ReadAsArray()\n",
    "    size1,size2=img_as_array.shape\n",
    "    print(\"step2 done\", sep = \" \")\n",
    "    \n",
    "    if lc == \"developed\":\n",
    "        output = developed(img_as_array)\n",
    "    elif lc == \"wetland\":\n",
    "        output = wetland(img_as_array)\n",
    "    elif lc == \"forest_shrub\":\n",
    "        output = forest_shrub(img_as_array)\n",
    "    else:\n",
    "        print(\"unknown recode\")\n",
    "\n",
    "    print(\"recode done\")\n",
    "    \n",
    "    dst_crs='EPSG:3586'\n",
    "    output = np.float32(output)\n",
    "    with rasterio.open(\n",
    "        to_filepath,\n",
    "        'w',\n",
    "        driver='GTiff',\n",
    "        height=output.shape[0],\n",
    "        width=output.shape[1],\n",
    "        count=1,\n",
    "        dtype=np.float32,\n",
    "        crs=dst_crs,\n",
    "        transform=afn,\n",
    "    ) as dest_file:\n",
    "        dest_file.write(output, 1)\n",
    "    dest_file.close()"
   ]
  },
  {
   "cell_type": "markdown",
   "id": "f5fa276b",
   "metadata": {},
   "source": [
    "## Do the recoding"
   ]
  },
  {
   "cell_type": "code",
   "execution_count": 22,
   "id": "c5d2d824",
   "metadata": {
    "ExecuteTime": {
     "end_time": "2021-12-30T00:39:21.126609Z",
     "start_time": "2021-12-30T00:38:37.860520Z"
    }
   },
   "outputs": [
    {
     "name": "stdout",
     "output_type": "stream",
     "text": [
      "step1 done\n",
      "step2 done\n",
      "recode done\n",
      "step1 done\n",
      "step2 done\n",
      "recode done\n",
      "step1 done\n",
      "step2 done\n",
      "recode done\n"
     ]
    }
   ],
   "source": [
    "to_filepath = 'data/2016_HighResLandCover/developed.tif'\n",
    "recode_lc(to_filepath, \"developed\")\n",
    "\n",
    "to_filepath = 'data/2016_HighResLandCover/wetland.tif'\n",
    "recode_lc(to_filepath, \"wetland\")\n",
    "\n",
    "to_filepath = 'data/2016_HighResLandCover/forest_shrub.tif'\n",
    "recode_lc(to_filepath, \"forest_shrub\")"
   ]
  },
  {
   "cell_type": "code",
   "execution_count": 23,
   "id": "cd6583ca",
   "metadata": {
    "ExecuteTime": {
     "end_time": "2021-12-30T00:42:33.100097Z",
     "start_time": "2021-12-30T00:39:21.381664Z"
    }
   },
   "outputs": [
    {
     "name": "stderr",
     "output_type": "stream",
     "text": [
      "C:\\Users\\RoseDeterman\\anaconda3\\envs\\gis3\\lib\\site-packages\\rasterstats\\io.py:313: UserWarning: Setting nodata to -999; specify nodata explicitly\n",
      "  warnings.warn(\"Setting nodata to -999; specify nodata explicitly\")\n"
     ]
    },
    {
     "name": "stdout",
     "output_type": "stream",
     "text": [
      "forest done\n"
     ]
    }
   ],
   "source": [
    "#reproject shapes to raster projection\n",
    "parcels = parcels.to_crs(\"EPSG:3586\")\n",
    "\n",
    "#CALCULATE FREST/SHRUB COVER\n",
    "x= zonal_stats(parcels,\n",
    "            'data/2016_HighResLandCover/forest_shrub.tif',\n",
    "            stats=\"mean\", all_touched=True)\n",
    "x = pd.DataFrame(x, index=parcels.index)\n",
    "x.columns = x.columns.map(lambda x: str(x) + '_for')\n",
    "parcels = parcels.join(x)\n",
    "print(\"forest done\")\n",
    "\n",
    "winsound.Beep(freq, duration)"
   ]
  },
  {
   "cell_type": "code",
   "execution_count": 24,
   "id": "2d538235",
   "metadata": {
    "ExecuteTime": {
     "end_time": "2021-12-30T00:47:35.731238Z",
     "start_time": "2021-12-30T00:42:33.115988Z"
    }
   },
   "outputs": [
    {
     "name": "stderr",
     "output_type": "stream",
     "text": [
      "C:\\Users\\RoseDeterman\\anaconda3\\envs\\gis3\\lib\\site-packages\\rasterstats\\io.py:313: UserWarning: Setting nodata to -999; specify nodata explicitly\n",
      "  warnings.warn(\"Setting nodata to -999; specify nodata explicitly\")\n"
     ]
    },
    {
     "name": "stdout",
     "output_type": "stream",
     "text": [
      "wetland done\n"
     ]
    },
    {
     "name": "stderr",
     "output_type": "stream",
     "text": [
      "C:\\Users\\RoseDeterman\\anaconda3\\envs\\gis3\\lib\\site-packages\\rasterstats\\io.py:313: UserWarning: Setting nodata to -999; specify nodata explicitly\n",
      "  warnings.warn(\"Setting nodata to -999; specify nodata explicitly\")\n"
     ]
    },
    {
     "name": "stdout",
     "output_type": "stream",
     "text": [
      "developed done\n"
     ]
    }
   ],
   "source": [
    "x= zonal_stats(parcels,\n",
    "            'data/2016_HighResLandCover/wetland.tif',\n",
    "            stats=\"mean\", all_touched=True)\n",
    "x = pd.DataFrame(x, index=parcels.index)\n",
    "x.columns = x.columns.map(lambda x: str(x) + '_wet')\n",
    "parcels = parcels.join(x)\n",
    "print(\"wetland done\")\n",
    "\n",
    "x= zonal_stats(parcels,\n",
    "            'data/2016_HighResLandCover/developed.tif',\n",
    "            stats=\"mean\", all_touched=True)\n",
    "x = pd.DataFrame(x, index=parcels.index)\n",
    "x.columns = x.columns.map(lambda x: str(x) + '_dev')\n",
    "parcels = parcels.join(x)\n",
    "print(\"developed done\")\n",
    "\n",
    "winsound.Beep(freq, duration)"
   ]
  },
  {
   "cell_type": "markdown",
   "id": "e2b816f1",
   "metadata": {},
   "source": [
    "# Join CH61"
   ]
  },
  {
   "cell_type": "code",
   "execution_count": 25,
   "id": "ef797b72",
   "metadata": {
    "ExecuteTime": {
     "end_time": "2021-12-30T00:47:35.815440Z",
     "start_time": "2021-12-30T00:47:35.742819Z"
    }
   },
   "outputs": [],
   "source": [
    "ch61 = pd.read_csv(\"data/assessor/CH61.csv\")\n",
    "\n",
    "ch61 = ch61[[\"PARCEL_NUM\", \"CH61_TYPE\"]]\n",
    "\n",
    "ch61.columns = ['MAP_PAR_ID','CH61_TYPE']\n",
    "ch61[\"rep\"] = \"-000\"\n",
    "ch61['MAP_PAR_ID'] = ch61['MAP_PAR_ID'].str.cat([ch61['rep']])"
   ]
  },
  {
   "cell_type": "code",
   "execution_count": 28,
   "id": "3d8d3b38",
   "metadata": {
    "ExecuteTime": {
     "end_time": "2021-12-30T00:47:35.985289Z",
     "start_time": "2021-12-30T00:47:35.903454Z"
    }
   },
   "outputs": [],
   "source": [
    "parcels = parcels.set_index(\"MAP_PAR_ID\").join(ch61.set_index(\"MAP_PAR_ID\"), how = \"left\")"
   ]
  },
  {
   "cell_type": "markdown",
   "id": "93d962d1",
   "metadata": {},
   "source": [
    "# Export All"
   ]
  },
  {
   "cell_type": "code",
   "execution_count": 32,
   "id": "e28ae3eb",
   "metadata": {
    "ExecuteTime": {
     "end_time": "2021-12-30T00:47:41.623933Z",
     "start_time": "2021-12-30T00:47:41.611002Z"
    }
   },
   "outputs": [],
   "source": [
    "parcels.reset_index(inplace = True)"
   ]
  },
  {
   "cell_type": "code",
   "execution_count": 33,
   "id": "d9dc0e5a",
   "metadata": {
    "ExecuteTime": {
     "end_time": "2021-12-30T00:47:41.639773Z",
     "start_time": "2021-12-30T00:47:41.628695Z"
    }
   },
   "outputs": [],
   "source": [
    "parcels = parcels[['MAP_PAR_ID', 't_as_val_x', 'LUC_x', \"CH61_TYPE\", 'geometry_x', 'area_x','POLY_ID', 'SITE_NAME',\n",
    "       'FEE_OWNER', 'PRIM_PURP', 'PUB_ACCESS', 'LEV_PROT',\n",
    "       'mean_loss', 'mean_gain', 'mean_prihab', 'mean_for', 'mean_wet',\n",
    "       'mean_dev']]"
   ]
  },
  {
   "cell_type": "code",
   "execution_count": 35,
   "id": "9c35def8",
   "metadata": {
    "ExecuteTime": {
     "end_time": "2021-12-30T00:58:51.006042Z",
     "start_time": "2021-12-30T00:58:50.754659Z"
    }
   },
   "outputs": [],
   "source": [
    "## Preprocessing\n",
    "parcels = parcels.to_crs(\"epsg:26986\")\n",
    "\n",
    "#Calculate Parcel area\n",
    "#convert to equal area projection and calculate area\n",
    "parcels['area_x'] = parcels.to_crs(\"EPSG:2163\").geometry.area\n",
    "\n",
    "#Calculate cost per area\n",
    "parcels['val_per_ar'] = parcels['t_as_val_x']/parcels['area_x']\n",
    "\n",
    "#Calculate area from % pixle cover\n",
    "parcels[\"floss_m2\"] = parcels[\"mean_loss\"]* parcels[\"area_x\"]\n",
    "parcels[\"fgain_m2\"] = parcels[\"mean_gain\"]* parcels[\"area_x\"]\n",
    "\n",
    "\n",
    "parcels[\"for_m2\"] = parcels[\"mean_for\"]* parcels[\"area_x\"]\n",
    "parcels[\"cost_for_m2\"] = parcels[\"t_as_val_x\"]/parcels[\"for_m2\"]\n",
    "\n",
    "parcels[\"wet_m2\"] = parcels[\"mean_wet\"]* parcels[\"area_x\"]\n",
    "parcels[\"cost_wet_m2\"] = parcels[\"t_as_val_x\"]/parcels[\"wet_m2\"]\n",
    "\n",
    "parcels[\"dev_m2\"] = parcels[\"mean_dev\"]* parcels[\"area_x\"]\n",
    "\n",
    "parcels[\"ndev_m2\"] = parcels[\"area_x\"]-parcels[\"dev_m2\"]\n",
    "parcels[\"cost_ndev_m2\"] = parcels[\"t_as_val_x\"]/parcels[\"ndev_m2\"]"
   ]
  },
  {
   "cell_type": "code",
   "execution_count": 36,
   "id": "e285f93e",
   "metadata": {
    "ExecuteTime": {
     "end_time": "2021-12-30T00:58:58.025850Z",
     "start_time": "2021-12-30T00:58:58.016015Z"
    }
   },
   "outputs": [
    {
     "data": {
      "text/plain": [
       "Index(['MAP_PAR_ID', 't_as_val_x', 'LUC_x', 'CH61_TYPE', 'geometry_x',\n",
       "       'area_x', 'POLY_ID', 'SITE_NAME', 'FEE_OWNER', 'PRIM_PURP',\n",
       "       'PUB_ACCESS', 'LEV_PROT', 'mean_loss', 'mean_gain', 'mean_prihab',\n",
       "       'mean_for', 'mean_wet', 'mean_dev', 'val_per_ar', 'floss_m2',\n",
       "       'fgain_m2', 'for_m2', 'cost_for_m2', 'wet_m2', 'cost_wet_m2', 'dev_m2',\n",
       "       'ndev_m2', 'cost_ndev_m2'],\n",
       "      dtype='object')"
      ]
     },
     "execution_count": 36,
     "metadata": {},
     "output_type": "execute_result"
    }
   ],
   "source": [
    "parcels.columns"
   ]
  },
  {
   "cell_type": "code",
   "execution_count": 37,
   "id": "44131f4c",
   "metadata": {
    "ExecuteTime": {
     "end_time": "2021-12-30T00:59:22.670259Z",
     "start_time": "2021-12-30T00:59:14.463028Z"
    }
   },
   "outputs": [
    {
     "name": "stderr",
     "output_type": "stream",
     "text": [
      "C:\\Users\\ROSEDE~1\\AppData\\Local\\Temp/ipykernel_9948/2114916280.py:5: UserWarning: Column names longer than 10 characters will be truncated when saved to ESRI Shapefile.\n",
      "  parcels.to_file(\"data/parcels.shp\")\n"
     ]
    }
   ],
   "source": [
    "parcels[\"priha_m2\"] = parcels[\"mean_prihab\"]* parcels[\"area_x\"]\n",
    "parcels[\"cost_priha_m2\"] = parcels[\"t_as_val_x\"]/parcels[\"priha_m2\"]\n",
    "\n",
    "parcels = parcels[~parcels[\"MAP_PAR_ID\"].duplicated()]\n",
    "parcels.to_file(\"data/parcels.shp\")"
   ]
  },
  {
   "cell_type": "code",
   "execution_count": null,
   "id": "ec6204e6",
   "metadata": {},
   "outputs": [],
   "source": []
  }
 ],
 "metadata": {
  "kernelspec": {
   "display_name": "Python 3 (ipykernel)",
   "language": "python",
   "name": "python3"
  },
  "language_info": {
   "codemirror_mode": {
    "name": "ipython",
    "version": 3
   },
   "file_extension": ".py",
   "mimetype": "text/x-python",
   "name": "python",
   "nbconvert_exporter": "python",
   "pygments_lexer": "ipython3",
   "version": "3.9.7"
  },
  "toc": {
   "base_numbering": 1,
   "nav_menu": {},
   "number_sections": true,
   "sideBar": true,
   "skip_h1_title": false,
   "title_cell": "Table of Contents",
   "title_sidebar": "Contents",
   "toc_cell": false,
   "toc_position": {},
   "toc_section_display": true,
   "toc_window_display": false
  }
 },
 "nbformat": 4,
 "nbformat_minor": 5
}
